{
 "cells": [
  {
   "cell_type": "markdown",
   "id": "8acbbba6",
   "metadata": {},
   "source": [
    "<h1> Pengenalan Python</h1> <br>\n",
    "Ini adalah pertemuan yang membahas pengenalan <b> Python </b>\n",
    "<ol>\n",
    "    <li>Fungsi Print </li>\n",
    "    <li>Fungsi Print Dengan Variabel</li> "
   ]
  },
  {
   "cell_type": "markdown",
   "id": "b66d7d7b",
   "metadata": {},
   "source": [
    "<h2> Fungsi Print </h2>"
   ]
  },
  {
   "cell_type": "code",
   "execution_count": 6,
   "id": "69afdde0",
   "metadata": {},
   "outputs": [
    {
     "name": "stdout",
     "output_type": "stream",
     "text": [
      "Gery Akbar Fauzi\n"
     ]
    }
   ],
   "source": [
    "print(\"Gery Akbar Fauzi\")"
   ]
  }
 ],
 "metadata": {
  "kernelspec": {
   "display_name": "Python 3 (ipykernel)",
   "language": "python",
   "name": "python3"
  },
  "language_info": {
   "codemirror_mode": {
    "name": "ipython",
    "version": 3
   },
   "file_extension": ".py",
   "mimetype": "text/x-python",
   "name": "python",
   "nbconvert_exporter": "python",
   "pygments_lexer": "ipython3",
   "version": "3.9.6"
  }
 },
 "nbformat": 4,
 "nbformat_minor": 5
}
