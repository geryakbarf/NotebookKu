{
 "cells": [
  {
   "cell_type": "markdown",
   "id": "29f7458d",
   "metadata": {},
   "source": [
    "<h1> Pengenalan Python</h1> <br>\n",
    "Ini adalah pertemuan yang membahas pengenalan <b> Python </b>\n",
    "<ol>\n",
    "    <li>Fungsi Print </li>\n",
    "    <li>Fungsi Print Dengan Variabel</li> "
   ]
  },
  {
   "cell_type": "markdown",
   "id": "785cb0c7",
   "metadata": {},
   "source": [
    "<h2> Fungsi Print </h2>"
   ]
  },
  {
   "cell_type": "code",
   "execution_count": 6,
   "id": "9b344805",
   "metadata": {},
   "outputs": [
    {
     "name": "stdout",
     "output_type": "stream",
     "text": [
      "Gery Akbar Fauzi\n"
     ]
    }
   ],
   "source": [
    "print(\"Gery Akbar Fauzi\")"
   ]
  },
  {
   "cell_type": "code",
   "execution_count": null,
   "id": "91898cd9",
   "metadata": {},
   "outputs": [],
   "source": []
  }
 ],
 "metadata": {
  "kernelspec": {
   "display_name": "Python 3 (ipykernel)",
   "language": "python",
   "name": "python3"
  },
  "language_info": {
   "codemirror_mode": {
    "name": "ipython",
    "version": 3
   },
   "file_extension": ".py",
   "mimetype": "text/x-python",
   "name": "python",
   "nbconvert_exporter": "python",
   "pygments_lexer": "ipython3",
   "version": "3.9.6"
  }
 },
 "nbformat": 4,
 "nbformat_minor": 5
}
